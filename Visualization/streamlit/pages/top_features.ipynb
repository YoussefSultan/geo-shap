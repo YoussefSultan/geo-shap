{
 "cells": [
  {
   "cell_type": "code",
   "execution_count": 1,
   "metadata": {},
   "outputs": [],
   "source": [
    "import pandas as pd\n",
    "import os\n",
    "import pickle"
   ]
  },
  {
   "cell_type": "code",
   "execution_count": 2,
   "metadata": {},
   "outputs": [
    {
     "name": "stdout",
     "output_type": "stream",
     "text": [
      "c:\\Users\\Mohammad\\Documents\\GitHub\\DVA_DiabetesAnalysis\\Visualization\\streamlit\n",
      "c:\\Users\\Mohammad\\Documents\\GitHub\\DVA_DiabetesAnalysis\\Visualization\n"
     ]
    }
   ],
   "source": [
    "main_directory = os.path.dirname(os.getcwd())\n",
    "print(main_directory)\n",
    "visualization_directory = os.path.dirname(main_directory)\n",
    "print(visualization_directory)"
   ]
  },
  {
   "cell_type": "code",
   "execution_count": 3,
   "metadata": {},
   "outputs": [],
   "source": [
    "# load data\n",
    "with open(visualization_directory + '/visual_datasets_040624.pkl', 'rb') as fp:\n",
    "    visual_datasets = pickle.load(fp)\n"
   ]
  },
  {
   "cell_type": "code",
   "execution_count": 4,
   "metadata": {},
   "outputs": [],
   "source": [
    "# display(visual_datasets[2012]['shap_values'].head())"
   ]
  },
  {
   "cell_type": "code",
   "execution_count": 5,
   "metadata": {},
   "outputs": [],
   "source": [
    "# display(visual_datasets.keys())\n",
    "# display(visual_datasets[2012].keys())\n",
    "# display(visual_datasets[2012]['shap_values'].keys())\n",
    "# display(visual_datasets[2012]['shap_values'].columns)"
   ]
  },
  {
   "cell_type": "code",
   "execution_count": 6,
   "metadata": {},
   "outputs": [],
   "source": [
    "# display(visual_datasets[2012]['shap_values'].head())"
   ]
  },
  {
   "cell_type": "code",
   "execution_count": 7,
   "metadata": {},
   "outputs": [],
   "source": [
    "# columns_names = visual_datasets[2012]['shap_values'].columns\n",
    "# # print(len(columns_names))\n",
    "# columns_names = list(set(columns_names) - {'County_FIPS', 'County', 'State', 'lat', 'lng', 'DiagnosedDiabetes(Percentage)'})\n",
    "# # print(len(columns_names))\n",
    "# # display(visual_datasets[2012]['shap_values'][columns_names].head())\n",
    "# df_2012 = visual_datasets[2012]['shap_values'][columns_names]\n",
    "\n",
    "# df_2012 = visual_datasets[2012]['shap_values'][columns_names].apply(pd.to_numeric, errors='coerce')\n",
    "\n",
    "\n",
    "# top_columns = df_2012.apply(lambda row: row.nlargest(5).index.tolist(), axis=1)\n",
    "# # display(top_columns)\n",
    "\n",
    "# visual_datasets[2012]['shap_values']['Top_Features'] = top_columns\n",
    "\n",
    "# display(visual_datasets[2012]['shap_values'].head(n=20))"
   ]
  },
  {
   "cell_type": "code",
   "execution_count": 8,
   "metadata": {},
   "outputs": [],
   "source": [
    "\n",
    "# df_2012 = visual_datasets[2012]['shap_values'][columns_names].apply(pd.to_numeric, errors='coerce')\n",
    "\n",
    "# top_columns = df_2012.apply(lambda row: row.nlargest(5).index.tolist(), axis=1)\n",
    "# # display(top_columns)\n",
    "\n",
    "# visual_datasets[2012]['shap_values']['Top_Features'] = top_columns\n",
    "\n",
    "# display(visual_datasets[2012]['shap_values'].head(n=20))\n"
   ]
  },
  {
   "cell_type": "code",
   "execution_count": 9,
   "metadata": {},
   "outputs": [],
   "source": [
    "# display(visual_datasets[2012]['processed_data'])"
   ]
  },
  {
   "cell_type": "code",
   "execution_count": 10,
   "metadata": {},
   "outputs": [],
   "source": [
    "for year, data in visual_datasets.items():\n",
    "    columns_names = data['shap_values'].columns\n",
    "    columns_names = list(set(columns_names) - {'County_FIPS', 'County', 'State', 'lat', 'lng', 'DiagnosedDiabetes(Percentage)'})\n",
    "    data['shap_values'][columns_names] = data['shap_values'][columns_names].apply(pd.to_numeric, errors='coerce')\n",
    "    top_columns = data['shap_values'][columns_names].apply(lambda row: row.nlargest(5).index.tolist(), axis=1)\n",
    "    data['shap_values']['Top_Features'] = top_columns\n",
    "    visual_datasets[year]['shap_values'] = data['shap_values']"
   ]
  },
  {
   "cell_type": "code",
   "execution_count": 11,
   "metadata": {},
   "outputs": [],
   "source": [
    "top_features = visualization_directory + '/visual_datasets_updated.pkl'\n",
    "\n",
    "with open(top_features, 'wb') as fp:\n",
    "    pickle.dump(visual_datasets, fp)"
   ]
  }
 ],
 "metadata": {
  "kernelspec": {
   "display_name": "Python 3",
   "language": "python",
   "name": "python3"
  },
  "language_info": {
   "codemirror_mode": {
    "name": "ipython",
    "version": 3
   },
   "file_extension": ".py",
   "mimetype": "text/x-python",
   "name": "python",
   "nbconvert_exporter": "python",
   "pygments_lexer": "ipython3",
   "version": "3.11.7"
  }
 },
 "nbformat": 4,
 "nbformat_minor": 2
}
