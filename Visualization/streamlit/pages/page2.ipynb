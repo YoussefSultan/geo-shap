{
 "cells": [
  {
   "cell_type": "code",
   "execution_count": 41,
   "metadata": {},
   "outputs": [],
   "source": [
    "import streamlit as st\n",
    "import pandas as pd\n",
    "import os\n",
    "import pickle\n",
    "import plotly.express as px\n",
    "import json "
   ]
  },
  {
   "cell_type": "code",
   "execution_count": 42,
   "metadata": {},
   "outputs": [
    {
     "name": "stdout",
     "output_type": "stream",
     "text": [
      "c:\\Users\\Mohammad\\Documents\\GitHub\\DVA_DiabetesAnalysis\\Visualization\\streamlit\n",
      "c:\\Users\\Mohammad\\Documents\\GitHub\\DVA_DiabetesAnalysis\\Visualization\n"
     ]
    }
   ],
   "source": [
    "main_directory = os.path.dirname(os.getcwd())\n",
    "print(main_directory)\n",
    "visualization_directory = os.path.dirname(main_directory)\n",
    "print(visualization_directory)"
   ]
  },
  {
   "cell_type": "code",
   "execution_count": 43,
   "metadata": {},
   "outputs": [
    {
     "ename": "OSError",
     "evalue": "[Errno 22] Invalid argument: 'c:\\\\Users\\\\Mohammad\\\\Documents\\\\GitHub\\\\DVA_DiabetesAnalysis\\\\Visualization\\x0bisual_datasets_updated.pkl'",
     "output_type": "error",
     "traceback": [
      "\u001b[1;31m---------------------------------------------------------------------------\u001b[0m",
      "\u001b[1;31mOSError\u001b[0m                                   Traceback (most recent call last)",
      "Cell \u001b[1;32mIn[43], line 2\u001b[0m\n\u001b[0;32m      1\u001b[0m \u001b[38;5;66;03m# load data\u001b[39;00m\n\u001b[1;32m----> 2\u001b[0m \u001b[38;5;28;01mwith\u001b[39;00m \u001b[38;5;28;43mopen\u001b[39;49m\u001b[43m(\u001b[49m\u001b[43mvisualization_directory\u001b[49m\u001b[43m \u001b[49m\u001b[38;5;241;43m+\u001b[39;49m\u001b[43m \u001b[49m\u001b[38;5;124;43m'\u001b[39;49m\u001b[38;5;130;43;01m\\v\u001b[39;49;00m\u001b[38;5;124;43misual_datasets_updated.pkl\u001b[39;49m\u001b[38;5;124;43m'\u001b[39;49m\u001b[43m,\u001b[49m\u001b[43m \u001b[49m\u001b[38;5;124;43m'\u001b[39;49m\u001b[38;5;124;43mrb\u001b[39;49m\u001b[38;5;124;43m'\u001b[39;49m\u001b[43m)\u001b[49m \u001b[38;5;28;01mas\u001b[39;00m fp:\n\u001b[0;32m      3\u001b[0m     visual_datasets \u001b[38;5;241m=\u001b[39m pickle\u001b[38;5;241m.\u001b[39mload(fp)\n\u001b[0;32m      4\u001b[0m \u001b[38;5;28;01mwith\u001b[39;00m \u001b[38;5;28mopen\u001b[39m(main_directory \u001b[38;5;241m+\u001b[39m \u001b[38;5;124m'\u001b[39m\u001b[38;5;124m\\\u001b[39m\u001b[38;5;124mgeojson-counties-fips.json\u001b[39m\u001b[38;5;124m'\u001b[39m, \u001b[38;5;124m'\u001b[39m\u001b[38;5;124mr\u001b[39m\u001b[38;5;124m'\u001b[39m) \u001b[38;5;28;01mas\u001b[39;00m f:\n",
      "File \u001b[1;32m~\\AppData\\Roaming\\Python\\Python311\\site-packages\\IPython\\core\\interactiveshell.py:310\u001b[0m, in \u001b[0;36m_modified_open\u001b[1;34m(file, *args, **kwargs)\u001b[0m\n\u001b[0;32m    303\u001b[0m \u001b[38;5;28;01mif\u001b[39;00m file \u001b[38;5;129;01min\u001b[39;00m {\u001b[38;5;241m0\u001b[39m, \u001b[38;5;241m1\u001b[39m, \u001b[38;5;241m2\u001b[39m}:\n\u001b[0;32m    304\u001b[0m     \u001b[38;5;28;01mraise\u001b[39;00m \u001b[38;5;167;01mValueError\u001b[39;00m(\n\u001b[0;32m    305\u001b[0m         \u001b[38;5;124mf\u001b[39m\u001b[38;5;124m\"\u001b[39m\u001b[38;5;124mIPython won\u001b[39m\u001b[38;5;124m'\u001b[39m\u001b[38;5;124mt let you open fd=\u001b[39m\u001b[38;5;132;01m{\u001b[39;00mfile\u001b[38;5;132;01m}\u001b[39;00m\u001b[38;5;124m by default \u001b[39m\u001b[38;5;124m\"\u001b[39m\n\u001b[0;32m    306\u001b[0m         \u001b[38;5;124m\"\u001b[39m\u001b[38;5;124mas it is likely to crash IPython. If you know what you are doing, \u001b[39m\u001b[38;5;124m\"\u001b[39m\n\u001b[0;32m    307\u001b[0m         \u001b[38;5;124m\"\u001b[39m\u001b[38;5;124myou can use builtins\u001b[39m\u001b[38;5;124m'\u001b[39m\u001b[38;5;124m open.\u001b[39m\u001b[38;5;124m\"\u001b[39m\n\u001b[0;32m    308\u001b[0m     )\n\u001b[1;32m--> 310\u001b[0m \u001b[38;5;28;01mreturn\u001b[39;00m \u001b[43mio_open\u001b[49m\u001b[43m(\u001b[49m\u001b[43mfile\u001b[49m\u001b[43m,\u001b[49m\u001b[43m \u001b[49m\u001b[38;5;241;43m*\u001b[39;49m\u001b[43margs\u001b[49m\u001b[43m,\u001b[49m\u001b[43m \u001b[49m\u001b[38;5;241;43m*\u001b[39;49m\u001b[38;5;241;43m*\u001b[39;49m\u001b[43mkwargs\u001b[49m\u001b[43m)\u001b[49m\n",
      "\u001b[1;31mOSError\u001b[0m: [Errno 22] Invalid argument: 'c:\\\\Users\\\\Mohammad\\\\Documents\\\\GitHub\\\\DVA_DiabetesAnalysis\\\\Visualization\\x0bisual_datasets_updated.pkl'"
     ]
    }
   ],
   "source": [
    "# load data\n",
    "with open(visualization_directory + '/visual_datasets_updated.pkl', 'rb') as fp:\n",
    "    visual_datasets = pickle.load(fp)\n",
    "with open(main_directory + '\\geojson-counties-fips.json', 'r') as f:\n",
    "    geojson = json.load(f)\n"
   ]
  },
  {
   "cell_type": "code",
   "execution_count": 40,
   "metadata": {},
   "outputs": [
    {
     "data": {
      "text/plain": [
       "dict_keys([2012, 2013, 2014, 2015, 2016, 2017, 2018, 2019, 2020, 2021])"
      ]
     },
     "metadata": {},
     "output_type": "display_data"
    },
    {
     "data": {
      "text/plain": [
       "dict_keys(['shap_values', 'processed_data'])"
      ]
     },
     "metadata": {},
     "output_type": "display_data"
    },
    {
     "data": {
      "text/plain": [
       "Index(['Obesity(Percentage)', 'FarmersMarket(Rate)',\n",
       "       'FastFoodRestaurants:Rateper1000Population(Rate)',\n",
       "       'FoodEnvironmentIndex(Index)', 'LimitedAccesstoHealthyFoods(Percent)',\n",
       "       'Sodasalestax:VendingMachines(Percent)', 'Dentists:Rateper100000(Rate)',\n",
       "       'Dentists:Number(Number)', 'PrimaryCarePhysicians:Rateper100000(Rate)',\n",
       "       'IsolationIndex:Non-HispanicAmericanIndian/AlaskaNative(Index)',\n",
       "       'IsolationIndex:Non-HispanicAsian(Index)',\n",
       "       'IsolationIndex:Non-HispanicNativeHawaiian/OtherPacificIslander(Index)',\n",
       "       'IsolationIndex:Non-HispanicWhite(Index)',\n",
       "       'SevereHousingCostBurden(Percent)', 'Vacanthousingunits(Proportion)',\n",
       "       'AccesstoExerciseOpportunities(Percent)', 'Commute≥60minutes(Percent)',\n",
       "       'PublicTransportation(Percent)', 'Urban_Rural(Urban-Rural)',\n",
       "       'Unemployed(Percentage)', 'IncomeVulnerability(Percentage)',\n",
       "       'Minority(Percentage)', 'SpeaksEnglishLessthanWell(Percentage)',\n",
       "       'Aged65orOlder(Percentage)', 'Aged17orYounger(Percentage)',\n",
       "       'Single-ParentHouseholds(Percentage)',\n",
       "       'Multi-UnitStructures(Percentage)', 'MobileHomes(Percentage)',\n",
       "       'Crowding(Percentage)', 'NoVehicle(Percentage)',\n",
       "       'GroupQuarters(Percentage)', '#ofFoodInsecureChildren', 'CostPerMeal',\n",
       "       'lat', 'lng', 'DiagnosedDiabetes(Percentage)', 'County_FIPS', 'County',\n",
       "       'State', 'Top_Features'],\n",
       "      dtype='object')"
      ]
     },
     "metadata": {},
     "output_type": "display_data"
    },
    {
     "data": {
      "text/plain": [
       "Index(['Obesity(Percentage)', 'FarmersMarket(Rate)',\n",
       "       'FastFoodRestaurants:Rateper1000Population(Rate)',\n",
       "       'FoodEnvironmentIndex(Index)', 'LimitedAccesstoHealthyFoods(Percent)',\n",
       "       'Sodasalestax:VendingMachines(Percent)', 'Dentists:Rateper100000(Rate)',\n",
       "       'Dentists:Number(Number)', 'PrimaryCarePhysicians:Rateper100000(Rate)',\n",
       "       'IsolationIndex:Non-HispanicAmericanIndian/AlaskaNative(Index)',\n",
       "       'IsolationIndex:Non-HispanicAsian(Index)',\n",
       "       'IsolationIndex:Non-HispanicNativeHawaiian/OtherPacificIslander(Index)',\n",
       "       'IsolationIndex:Non-HispanicWhite(Index)',\n",
       "       'SevereHousingCostBurden(Percent)', 'Vacanthousingunits(Proportion)',\n",
       "       'AccesstoExerciseOpportunities(Percent)', 'Commute≥60minutes(Percent)',\n",
       "       'PublicTransportation(Percent)', 'Urban_Rural(Urban-Rural)',\n",
       "       'Unemployed(Percentage)', 'IncomeVulnerability(Percentage)',\n",
       "       'Minority(Percentage)', 'SpeaksEnglishLessthanWell(Percentage)',\n",
       "       'Aged65orOlder(Percentage)', 'Aged17orYounger(Percentage)',\n",
       "       'Single-ParentHouseholds(Percentage)',\n",
       "       'Multi-UnitStructures(Percentage)', 'MobileHomes(Percentage)',\n",
       "       'Crowding(Percentage)', 'NoVehicle(Percentage)',\n",
       "       'GroupQuarters(Percentage)', '#ofFoodInsecureChildren', 'CostPerMeal',\n",
       "       'lat', 'lng', 'DiagnosedDiabetes(Percentage)', 'County_FIPS', 'County',\n",
       "       'State', 'Top_Features'],\n",
       "      dtype='object')"
      ]
     },
     "metadata": {},
     "output_type": "display_data"
    }
   ],
   "source": [
    "display(visual_datasets.keys())\n",
    "display(visual_datasets[2012].keys())\n",
    "display(visual_datasets[2012]['shap_values'].keys())\n",
    "display(visual_datasets[2012]['shap_values'].columns)"
   ]
  },
  {
   "cell_type": "code",
   "execution_count": 35,
   "metadata": {},
   "outputs": [
    {
     "data": {
      "text/html": [
       "<div>\n",
       "<style scoped>\n",
       "    .dataframe tbody tr th:only-of-type {\n",
       "        vertical-align: middle;\n",
       "    }\n",
       "\n",
       "    .dataframe tbody tr th {\n",
       "        vertical-align: top;\n",
       "    }\n",
       "\n",
       "    .dataframe thead th {\n",
       "        text-align: right;\n",
       "    }\n",
       "</style>\n",
       "<table border=\"1\" class=\"dataframe\">\n",
       "  <thead>\n",
       "    <tr style=\"text-align: right;\">\n",
       "      <th></th>\n",
       "      <th>Obesity(Percentage)</th>\n",
       "      <th>FarmersMarket(Rate)</th>\n",
       "      <th>FastFoodRestaurants:Rateper1000Population(Rate)</th>\n",
       "      <th>FoodEnvironmentIndex(Index)</th>\n",
       "      <th>LimitedAccesstoHealthyFoods(Percent)</th>\n",
       "      <th>Sodasalestax:VendingMachines(Percent)</th>\n",
       "      <th>Dentists:Rateper100000(Rate)</th>\n",
       "      <th>Dentists:Number(Number)</th>\n",
       "      <th>PrimaryCarePhysicians:Rateper100000(Rate)</th>\n",
       "      <th>IsolationIndex:Non-HispanicAmericanIndian/AlaskaNative(Index)</th>\n",
       "      <th>...</th>\n",
       "      <th>GroupQuarters(Percentage)</th>\n",
       "      <th>#ofFoodInsecureChildren</th>\n",
       "      <th>CostPerMeal</th>\n",
       "      <th>lat</th>\n",
       "      <th>lng</th>\n",
       "      <th>DiagnosedDiabetes(Percentage)</th>\n",
       "      <th>County_FIPS</th>\n",
       "      <th>County</th>\n",
       "      <th>State</th>\n",
       "      <th>Top_Features</th>\n",
       "    </tr>\n",
       "  </thead>\n",
       "  <tbody>\n",
       "    <tr>\n",
       "      <th>0</th>\n",
       "      <td>0.105654</td>\n",
       "      <td>-0.249414</td>\n",
       "      <td>0.132534</td>\n",
       "      <td>0.107829</td>\n",
       "      <td>-0.065844</td>\n",
       "      <td>-0.519848</td>\n",
       "      <td>-0.022085</td>\n",
       "      <td>-0.001488</td>\n",
       "      <td>0.033645</td>\n",
       "      <td>-0.080501</td>\n",
       "      <td>...</td>\n",
       "      <td>-0.021177</td>\n",
       "      <td>-0.079286</td>\n",
       "      <td>-0.004035</td>\n",
       "      <td>38.589393</td>\n",
       "      <td>-119.834501</td>\n",
       "      <td>7.5</td>\n",
       "      <td>06003</td>\n",
       "      <td>Alpine County</td>\n",
       "      <td>California</td>\n",
       "      <td>[Unemployed(Percentage), Minority(Percentage),...</td>\n",
       "    </tr>\n",
       "    <tr>\n",
       "      <th>1</th>\n",
       "      <td>-0.166057</td>\n",
       "      <td>0.037691</td>\n",
       "      <td>-0.021005</td>\n",
       "      <td>0.150072</td>\n",
       "      <td>-0.011989</td>\n",
       "      <td>-0.164389</td>\n",
       "      <td>0.008415</td>\n",
       "      <td>-0.000107</td>\n",
       "      <td>0.013600</td>\n",
       "      <td>0.016623</td>\n",
       "      <td>...</td>\n",
       "      <td>-0.007308</td>\n",
       "      <td>0.012504</td>\n",
       "      <td>0.028964</td>\n",
       "      <td>34.990607</td>\n",
       "      <td>-93.428310</td>\n",
       "      <td>8.2</td>\n",
       "      <td>05149</td>\n",
       "      <td>Yell County</td>\n",
       "      <td>Arkansas</td>\n",
       "      <td>[FoodEnvironmentIndex(Index), Single-ParentHou...</td>\n",
       "    </tr>\n",
       "    <tr>\n",
       "      <th>2</th>\n",
       "      <td>-0.147322</td>\n",
       "      <td>-0.220060</td>\n",
       "      <td>0.003721</td>\n",
       "      <td>0.151086</td>\n",
       "      <td>0.003534</td>\n",
       "      <td>-0.160465</td>\n",
       "      <td>0.055672</td>\n",
       "      <td>-0.012478</td>\n",
       "      <td>0.039858</td>\n",
       "      <td>0.162724</td>\n",
       "      <td>...</td>\n",
       "      <td>-0.007248</td>\n",
       "      <td>-0.047658</td>\n",
       "      <td>0.074122</td>\n",
       "      <td>35.204888</td>\n",
       "      <td>-92.447911</td>\n",
       "      <td>9.5</td>\n",
       "      <td>05147</td>\n",
       "      <td>Woodruff County</td>\n",
       "      <td>Arkansas</td>\n",
       "      <td>[Unemployed(Percentage), NoVehicle(Percentage)...</td>\n",
       "    </tr>\n",
       "    <tr>\n",
       "      <th>3</th>\n",
       "      <td>-0.174660</td>\n",
       "      <td>-0.145973</td>\n",
       "      <td>-0.006313</td>\n",
       "      <td>0.131228</td>\n",
       "      <td>-0.019889</td>\n",
       "      <td>-0.057831</td>\n",
       "      <td>0.089857</td>\n",
       "      <td>0.000977</td>\n",
       "      <td>0.037904</td>\n",
       "      <td>-0.018192</td>\n",
       "      <td>...</td>\n",
       "      <td>-0.004750</td>\n",
       "      <td>0.030786</td>\n",
       "      <td>0.008738</td>\n",
       "      <td>35.204888</td>\n",
       "      <td>-92.447911</td>\n",
       "      <td>9.4</td>\n",
       "      <td>05133</td>\n",
       "      <td>Sevier County</td>\n",
       "      <td>Arkansas</td>\n",
       "      <td>[Minority(Percentage), Multi-UnitStructures(Pe...</td>\n",
       "    </tr>\n",
       "    <tr>\n",
       "      <th>4</th>\n",
       "      <td>-0.125595</td>\n",
       "      <td>-0.004337</td>\n",
       "      <td>-0.006543</td>\n",
       "      <td>-0.040878</td>\n",
       "      <td>0.031436</td>\n",
       "      <td>-0.230985</td>\n",
       "      <td>0.036549</td>\n",
       "      <td>0.000677</td>\n",
       "      <td>0.042024</td>\n",
       "      <td>0.022242</td>\n",
       "      <td>...</td>\n",
       "      <td>-0.013255</td>\n",
       "      <td>-0.062470</td>\n",
       "      <td>0.026398</td>\n",
       "      <td>34.810525</td>\n",
       "      <td>-91.575115</td>\n",
       "      <td>8.4</td>\n",
       "      <td>05117</td>\n",
       "      <td>Prairie County</td>\n",
       "      <td>Arkansas</td>\n",
       "      <td>[Unemployed(Percentage), MobileHomes(Percentag...</td>\n",
       "    </tr>\n",
       "  </tbody>\n",
       "</table>\n",
       "<p>5 rows × 40 columns</p>\n",
       "</div>"
      ],
      "text/plain": [
       "   Obesity(Percentage)  FarmersMarket(Rate)  \\\n",
       "0             0.105654            -0.249414   \n",
       "1            -0.166057             0.037691   \n",
       "2            -0.147322            -0.220060   \n",
       "3            -0.174660            -0.145973   \n",
       "4            -0.125595            -0.004337   \n",
       "\n",
       "   FastFoodRestaurants:Rateper1000Population(Rate)  \\\n",
       "0                                         0.132534   \n",
       "1                                        -0.021005   \n",
       "2                                         0.003721   \n",
       "3                                        -0.006313   \n",
       "4                                        -0.006543   \n",
       "\n",
       "   FoodEnvironmentIndex(Index)  LimitedAccesstoHealthyFoods(Percent)  \\\n",
       "0                     0.107829                             -0.065844   \n",
       "1                     0.150072                             -0.011989   \n",
       "2                     0.151086                              0.003534   \n",
       "3                     0.131228                             -0.019889   \n",
       "4                    -0.040878                              0.031436   \n",
       "\n",
       "   Sodasalestax:VendingMachines(Percent)  Dentists:Rateper100000(Rate)  \\\n",
       "0                              -0.519848                     -0.022085   \n",
       "1                              -0.164389                      0.008415   \n",
       "2                              -0.160465                      0.055672   \n",
       "3                              -0.057831                      0.089857   \n",
       "4                              -0.230985                      0.036549   \n",
       "\n",
       "   Dentists:Number(Number)  PrimaryCarePhysicians:Rateper100000(Rate)  \\\n",
       "0                -0.001488                                   0.033645   \n",
       "1                -0.000107                                   0.013600   \n",
       "2                -0.012478                                   0.039858   \n",
       "3                 0.000977                                   0.037904   \n",
       "4                 0.000677                                   0.042024   \n",
       "\n",
       "   IsolationIndex:Non-HispanicAmericanIndian/AlaskaNative(Index)  ...  \\\n",
       "0                                          -0.080501              ...   \n",
       "1                                           0.016623              ...   \n",
       "2                                           0.162724              ...   \n",
       "3                                          -0.018192              ...   \n",
       "4                                           0.022242              ...   \n",
       "\n",
       "   GroupQuarters(Percentage)  #ofFoodInsecureChildren  CostPerMeal        lat  \\\n",
       "0                  -0.021177                -0.079286    -0.004035  38.589393   \n",
       "1                  -0.007308                 0.012504     0.028964  34.990607   \n",
       "2                  -0.007248                -0.047658     0.074122  35.204888   \n",
       "3                  -0.004750                 0.030786     0.008738  35.204888   \n",
       "4                  -0.013255                -0.062470     0.026398  34.810525   \n",
       "\n",
       "          lng  DiagnosedDiabetes(Percentage)  County_FIPS           County  \\\n",
       "0 -119.834501                            7.5        06003    Alpine County   \n",
       "1  -93.428310                            8.2        05149      Yell County   \n",
       "2  -92.447911                            9.5        05147  Woodruff County   \n",
       "3  -92.447911                            9.4        05133    Sevier County   \n",
       "4  -91.575115                            8.4        05117   Prairie County   \n",
       "\n",
       "        State                                       Top_Features  \n",
       "0  California  [Unemployed(Percentage), Minority(Percentage),...  \n",
       "1    Arkansas  [FoodEnvironmentIndex(Index), Single-ParentHou...  \n",
       "2    Arkansas  [Unemployed(Percentage), NoVehicle(Percentage)...  \n",
       "3    Arkansas  [Minority(Percentage), Multi-UnitStructures(Pe...  \n",
       "4    Arkansas  [Unemployed(Percentage), MobileHomes(Percentag...  \n",
       "\n",
       "[5 rows x 40 columns]"
      ]
     },
     "metadata": {},
     "output_type": "display_data"
    }
   ],
   "source": [
    "display(visual_datasets[2012]['shap_values'].head())"
   ]
  },
  {
   "cell_type": "code",
   "execution_count": 36,
   "metadata": {},
   "outputs": [
    {
     "name": "stderr",
     "output_type": "stream",
     "text": [
      "2024-04-07 12:23:30.925 \n",
      "  \u001b[33m\u001b[1mWarning:\u001b[0m to view this Streamlit app on a browser, run it with the following\n",
      "  command:\n",
      "\n",
      "    streamlit run C:\\Users\\Mohammad\\AppData\\Roaming\\Python\\Python311\\site-packages\\ipykernel_launcher.py [ARGUMENTS]\n"
     ]
    },
    {
     "data": {
      "text/plain": [
       "DeltaGenerator()"
      ]
     },
     "execution_count": 36,
     "metadata": {},
     "output_type": "execute_result"
    }
   ],
   "source": [
    "\n",
    "# unique years list\n",
    "unique_years = [year for year in visual_datasets.keys()]\n",
    "\n",
    "# sidebar\n",
    "with st.sidebar:\n",
    "    # Year selection in sidebar\n",
    "    selected_year = st.selectbox(\n",
    "        'Select Year',\n",
    "        unique_years,\n",
    "        index=0  # Defaults to the first year in the list\n",
    "    )\n",
    "    \n",
    "    # Factor selection in sidebar\n",
    "    selected_factor = st.selectbox('Select a State', visual_datasets[selected_year]['shap_values']['State'])"
   ]
  },
  {
   "cell_type": "code",
   "execution_count": null,
   "metadata": {},
   "outputs": [],
   "source": [
    "\n",
    "# Use the selected year to load the corresponding dataset\n",
    "data = visual_datasets[selected_year]['shap_values']\n",
    "\n",
    "# Create choropleth map using the selected factor and data for the chosen year\n",
    "fig = px.choropleth(\n",
    "    data,\n",
    "    geojson=geojson,  # Assuming 'geojson' is loaded appropriately\n",
    "    locations='County_FIPS',\n",
    "    color=selected_factor,\n",
    "    color_continuous_scale=\"Viridis\",\n",
    "    scope=\"usa\",\n",
    "    labels={selected_factor: selected_factor},\n",
    "    hover_data=['County', 'State', selected_factor]\n",
    ")\n",
    "\n",
    "fig.update_layout(margin={\"r\":0,\"t\":0,\"l\":0,\"b\":0})\n",
    "\n",
    "# Display the plotly choropleth map in the main page area\n",
    "st.plotly_chart(fig)"
   ]
  }
 ],
 "metadata": {
  "kernelspec": {
   "display_name": "Python 3",
   "language": "python",
   "name": "python3"
  },
  "language_info": {
   "codemirror_mode": {
    "name": "ipython",
    "version": 3
   },
   "file_extension": ".py",
   "mimetype": "text/x-python",
   "name": "python",
   "nbconvert_exporter": "python",
   "pygments_lexer": "ipython3",
   "version": "3.11.7"
  }
 },
 "nbformat": 4,
 "nbformat_minor": 2
}
